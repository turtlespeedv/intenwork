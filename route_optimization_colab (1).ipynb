{
  "cells": [
    {
      "cell_type": "code",
      "execution_count": 56,
      "metadata": {
        "colab": {
          "base_uri": "https://localhost:8080/"
        },
        "id": "yc0XwgBGCxeG",
        "outputId": "b3ac3167-5e3a-41d0-c0c0-b875418ce7c4"
      },
      "outputs": [
        {
          "output_type": "stream",
          "name": "stdout",
          "text": [
            "Requirement already satisfied: pyngrok in /usr/local/lib/python3.11/dist-packages (7.2.8)\n",
            "Requirement already satisfied: PyYAML>=5.1 in /usr/local/lib/python3.11/dist-packages (from pyngrok) (6.0.2)\n"
          ]
        }
      ],
      "source": [
        "# 🛠️ Step 1: Install dependencies\n",
        "!pip install streamlit colabcode matplotlib numpy -q\n",
        "# !npm install -g localtunnel\n",
        "!pip install --upgrade pyngrok\n"
      ]
    },
    {
      "cell_type": "code",
      "execution_count": 57,
      "metadata": {
        "colab": {
          "base_uri": "https://localhost:8080/"
        },
        "id": "TilF9F1_CxeH",
        "outputId": "90708329-a85b-41cb-d920-2b94f2b34280"
      },
      "outputs": [
        {
          "output_type": "stream",
          "name": "stdout",
          "text": [
            "Overwriting tsp_ga.py\n"
          ]
        }
      ],
      "source": [
        "# 🧠 Step 2: Write tsp_ga.py\n",
        "%%writefile tsp_ga.py\n",
        "import random\n",
        "import numpy as np\n",
        "\n",
        "def total_distance(route, dist_matrix):\n",
        "    return sum(dist_matrix[route[i-1]][route[i]] for i in range(len(route)))\n",
        "\n",
        "def create_initial_population(n_cities, pop_size):\n",
        "    return [random.sample(range(n_cities), n_cities) for _ in range(pop_size)]\n",
        "\n",
        "def mutate(route):\n",
        "    a, b = random.sample(range(len(route)), 2)\n",
        "    route[a], route[b] = route[b], route[a]\n",
        "    return route\n",
        "\n",
        "def crossover(p1, p2):\n",
        "    cut = random.randint(0, len(p1) - 1)\n",
        "    child = p1[:cut] + [c for c in p2 if c not in p1[:cut]]\n",
        "    return child\n",
        "\n",
        "def evolve_population(pop, dist_matrix, elite_size):\n",
        "    scores = [(r, total_distance(r, dist_matrix)) for r in pop]\n",
        "    scores.sort(key=lambda x: x[1])\n",
        "    elite = [r for r, _ in scores[:elite_size]]\n",
        "    next_gen = elite[:]\n",
        "    while len(next_gen) < len(pop):\n",
        "        parent1, parent2 = random.sample(elite, 2)\n",
        "        child = crossover(parent1, parent2)\n",
        "        if random.random() < 0.2:\n",
        "            child = mutate(child)\n",
        "        next_gen.append(child)\n",
        "    return next_gen, scores[0][0], scores[0][1]"
      ]
    },
    {
      "cell_type": "code",
      "execution_count": 58,
      "metadata": {
        "colab": {
          "base_uri": "https://localhost:8080/"
        },
        "id": "6iLg0fzICxeH",
        "outputId": "36ebe3c3-ca39-4b0b-ea2c-c3924665ba8c"
      },
      "outputs": [
        {
          "output_type": "stream",
          "name": "stdout",
          "text": [
            "Overwriting utils.py\n"
          ]
        }
      ],
      "source": [
        "# 📦 Step 3: Write utils.py\n",
        "%%writefile utils.py\n",
        "import numpy as np\n",
        "import matplotlib.pyplot as plt\n",
        "\n",
        "def generate_cities(n):\n",
        "    return np.random.rand(n, 2) * 100\n",
        "\n",
        "def compute_distance_matrix(cities):\n",
        "    n = len(cities)\n",
        "    return [[np.linalg.norm(cities[i] - cities[j]) for j in range(n)] for i in range(n)]\n",
        "\n",
        "def plot_route(cities, route):\n",
        "    fig, ax = plt.subplots()\n",
        "    ordered = cities[route + [route[0]]] if isinstance(route, list) else cities[np.append(route, route[0])]\n",
        "    ax.plot(ordered[:, 0], ordered[:, 1], 'o-', color='blue')\n",
        "    for i, (x, y) in enumerate(cities):\n",
        "        ax.text(x + 1, y + 1, str(i), fontsize=8)\n",
        "    ax.set_title(\"Optimized Route\")\n",
        "    return fig"
      ]
    },
    {
      "cell_type": "code",
      "execution_count": 59,
      "metadata": {
        "colab": {
          "base_uri": "https://localhost:8080/"
        },
        "id": "ac6sK5J1CxeH",
        "outputId": "b66a8d08-b115-4240-aa1c-1da55d5e2740"
      },
      "outputs": [
        {
          "output_type": "stream",
          "name": "stdout",
          "text": [
            "Overwriting app.py\n"
          ]
        }
      ],
      "source": [
        "# 🚀 Step 4: Write app.py (Streamlit app)\n",
        "%%writefile app.py\n",
        "import streamlit as st\n",
        "from tsp_ga import *\n",
        "from utils import *\n",
        "import time\n",
        "\n",
        "st.title(\"🚚 Route Optimization with Genetic Algorithm\")\n",
        "n_cities = st.slider(\"Number of cities\", 5, 20, 10)\n",
        "generations = st.slider(\"Generations\", 10, 500, 100)\n",
        "pop_size = 100\n",
        "elite_size = 20\n",
        "\n",
        "if st.button(\"Generate and Optimize Route\"):\n",
        "    cities = generate_cities(n_cities)\n",
        "    dist_matrix = compute_distance_matrix(cities)\n",
        "    pop = create_initial_population(n_cities, pop_size)\n",
        "\n",
        "    best_distances = []\n",
        "    best_route = []\n",
        "    for _ in range(generations):\n",
        "        pop, best_route, best_distance = evolve_population(pop, dist_matrix, elite_size)\n",
        "        best_distances.append(best_distance)\n",
        "\n",
        "    st.success(f\"Best Distance: {best_distance:.2f}\")\n",
        "    st.pyplot(plot_route(cities, best_route))\n",
        "    st.line_chart(best_distances)"
      ]
    },
    {
      "cell_type": "code",
      "execution_count": 60,
      "metadata": {
        "colab": {
          "base_uri": "https://localhost:8080/"
        },
        "id": "mYY3gdh9CxeI",
        "outputId": "54bbadb1-0625-416c-daab-b9fd90a1955d"
      },
      "outputs": [
        {
          "output_type": "stream",
          "name": "stdout",
          "text": [
            "Requirement already satisfied: ngrok in /usr/local/lib/python3.11/dist-packages (1.4.0)\n",
            "ERROR:  authentication failed: Usage of ngrok requires a verified account and authtoken.\n",
            "ERROR:  \n",
            "ERROR:  Sign up for an account: https://dashboard.ngrok.com/signup\n",
            "ERROR:  Install your authtoken: https://dashboard.ngrok.com/get-started/your-authtoken\n",
            "ERROR:  \n",
            "ERROR:  ERR_NGROK_4018\n",
            "ERROR:  https://ngrok.com/docs/errors/err_ngrok_4018\n",
            "ERROR:  \n"
          ]
        }
      ],
      "source": [
        "# 🔓 Step 5: Run the Streamlit app using colabcode\n",
        "\n",
        "from pyngrok import conf\n",
        "conf.get_default().auth_token = \"2qFLPrbBC3ehO7sBa8BBJ2hJDu0_7PYyEj4KBfyVEJswmGtT\"\n",
        "from colabcode import ColabCode\n",
        "ColabCode(port=8501)\n",
        "\n",
        "# !streamlit run app.py &>/content/log.txt &\n",
        "# !npx localtunnel --port 8500\n"
      ]
    }
  ],
  "metadata": {
    "kernelspec": {
      "display_name": "Python 3",
      "language": "python",
      "name": "python3"
    },
    "language_info": {
      "name": "python",
      "version": ""
    },
    "colab": {
      "provenance": []
    }
  },
  "nbformat": 4,
  "nbformat_minor": 0
}